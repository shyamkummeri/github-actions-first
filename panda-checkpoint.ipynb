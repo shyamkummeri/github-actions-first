{
 "cells": [
  {
   "cell_type": "code",
   "execution_count": null,
   "id": "0802a440",
   "metadata": {},
   "outputs": [
    {
     "name": "stdout",
     "output_type": "stream",
     "text": [
      "Defaulting to user installation because normal site-packages is not writeable\n",
      "Requirement already satisfied: jupyterlab in c:\\programdata\\anaconda3\\lib\\site-packages (3.4.4)\n",
      "Requirement already satisfied: packaging in c:\\programdata\\anaconda3\\lib\\site-packages (from jupyterlab) (21.3)\n",
      "Requirement already satisfied: jinja2>=2.1 in c:\\programdata\\anaconda3\\lib\\site-packages (from jupyterlab) (2.11.3)\n",
      "Requirement already satisfied: nbclassic in c:\\programdata\\anaconda3\\lib\\site-packages (from jupyterlab) (0.3.5)\n",
      "Requirement already satisfied: tornado>=6.1.0 in c:\\programdata\\anaconda3\\lib\\site-packages (from jupyterlab) (6.1)\n",
      "Requirement already satisfied: jupyter-core in c:\\programdata\\anaconda3\\lib\\site-packages (from jupyterlab) (4.11.1)\n",
      "Requirement already satisfied: jupyterlab-server~=2.10 in c:\\programdata\\anaconda3\\lib\\site-packages (from jupyterlab) (2.10.3)\n",
      "Requirement already satisfied: jupyter-server~=1.16 in c:\\programdata\\anaconda3\\lib\\site-packages (from jupyterlab) (1.18.1)\n",
      "Requirement already satisfied: notebook<7 in c:\\programdata\\anaconda3\\lib\\site-packages (from jupyterlab) (6.4.12)\n",
      "Requirement already satisfied: ipython in c:\\programdata\\anaconda3\\lib\\site-packages (from jupyterlab) (7.31.1)\n",
      "Requirement already satisfied: MarkupSafe>=0.23 in c:\\programdata\\anaconda3\\lib\\site-packages (from jinja2>=2.1->jupyterlab) (2.0.1)\n",
      "Requirement already satisfied: anyio<4,>=3.1.0 in c:\\programdata\\anaconda3\\lib\\site-packages (from jupyter-server~=1.16->jupyterlab) (3.5.0)\n",
      "Requirement already satisfied: terminado>=0.8.3 in c:\\programdata\\anaconda3\\lib\\site-packages (from jupyter-server~=1.16->jupyterlab) (0.13.1)\n",
      "Requirement already satisfied: nbformat>=5.2.0 in c:\\programdata\\anaconda3\\lib\\site-packages (from jupyter-server~=1.16->jupyterlab) (5.5.0)\n",
      "Requirement already satisfied: nbconvert>=6.4.4 in c:\\programdata\\anaconda3\\lib\\site-packages (from jupyter-server~=1.16->jupyterlab) (6.4.4)\n",
      "Requirement already satisfied: argon2-cffi in c:\\programdata\\anaconda3\\lib\\site-packages (from jupyter-server~=1.16->jupyterlab) (21.3.0)\n",
      "Requirement already satisfied: pyzmq>=17 in c:\\programdata\\anaconda3\\lib\\site-packages (from jupyter-server~=1.16->jupyterlab) (23.2.0)\n",
      "Requirement already satisfied: traitlets>=5.1 in c:\\programdata\\anaconda3\\lib\\site-packages (from jupyter-server~=1.16->jupyterlab) (5.1.1)\n",
      "Requirement already satisfied: websocket-client in c:\\programdata\\anaconda3\\lib\\site-packages (from jupyter-server~=1.16->jupyterlab) (0.58.0)\n",
      "Requirement already satisfied: jupyter-client>=6.1.12 in c:\\programdata\\anaconda3\\lib\\site-packages (from jupyter-server~=1.16->jupyterlab) (7.3.4)\n",
      "Requirement already satisfied: pywinpty in c:\\programdata\\anaconda3\\lib\\site-packages (from jupyter-server~=1.16->jupyterlab) (2.0.2)\n",
      "Requirement already satisfied: Send2Trash in c:\\programdata\\anaconda3\\lib\\site-packages (from jupyter-server~=1.16->jupyterlab) (1.8.0)\n",
      "Requirement already satisfied: prometheus-client in c:\\programdata\\anaconda3\\lib\\site-packages (from jupyter-server~=1.16->jupyterlab) (0.14.1)\n",
      "Requirement already satisfied: pywin32>=1.0 in c:\\programdata\\anaconda3\\lib\\site-packages (from jupyter-core->jupyterlab) (302)\n",
      "Requirement already satisfied: entrypoints>=0.2.2 in c:\\programdata\\anaconda3\\lib\\site-packages (from jupyterlab-server~=2.10->jupyterlab) (0.4)\n",
      "Requirement already satisfied: json5 in c:\\programdata\\anaconda3\\lib\\site-packages (from jupyterlab-server~=2.10->jupyterlab) (0.9.6)\n",
      "Requirement already satisfied: requests in c:\\programdata\\anaconda3\\lib\\site-packages (from jupyterlab-server~=2.10->jupyterlab) (2.28.1)\n",
      "Requirement already satisfied: babel in c:\\programdata\\anaconda3\\lib\\site-packages (from jupyterlab-server~=2.10->jupyterlab) (2.9.1)\n",
      "Requirement already satisfied: jsonschema>=3.0.1 in c:\\programdata\\anaconda3\\lib\\site-packages (from jupyterlab-server~=2.10->jupyterlab) (4.16.0)\n",
      "Requirement already satisfied: ipython-genutils in c:\\programdata\\anaconda3\\lib\\site-packages (from notebook<7->jupyterlab) (0.2.0)\n",
      "Requirement already satisfied: ipykernel in c:\\programdata\\anaconda3\\lib\\site-packages (from notebook<7->jupyterlab) (6.15.2)\n",
      "Requirement already satisfied: nest-asyncio>=1.5 in c:\\programdata\\anaconda3\\lib\\site-packages (from notebook<7->jupyterlab) (1.5.5)\n",
      "Requirement already satisfied: setuptools>=18.5 in c:\\programdata\\anaconda3\\lib\\site-packages (from ipython->jupyterlab) (63.4.1)\n",
      "Requirement already satisfied: jedi>=0.16 in c:\\programdata\\anaconda3\\lib\\site-packages (from ipython->jupyterlab) (0.18.1)\n",
      "Requirement already satisfied: decorator in c:\\programdata\\anaconda3\\lib\\site-packages (from ipython->jupyterlab) (5.1.1)\n",
      "Requirement already satisfied: prompt-toolkit!=3.0.0,!=3.0.1,<3.1.0,>=2.0.0 in c:\\programdata\\anaconda3\\lib\\site-packages (from ipython->jupyterlab) (3.0.20)\n",
      "Requirement already satisfied: colorama in c:\\programdata\\anaconda3\\lib\\site-packages (from ipython->jupyterlab) (0.4.5)\n",
      "Requirement already satisfied: pickleshare in c:\\programdata\\anaconda3\\lib\\site-packages (from ipython->jupyterlab) (0.7.5)\n",
      "Requirement already satisfied: matplotlib-inline in c:\\programdata\\anaconda3\\lib\\site-packages (from ipython->jupyterlab) (0.1.6)\n",
      "Requirement already satisfied: backcall in c:\\programdata\\anaconda3\\lib\\site-packages (from ipython->jupyterlab) (0.2.0)\n",
      "Requirement already satisfied: pygments in c:\\programdata\\anaconda3\\lib\\site-packages (from ipython->jupyterlab) (2.11.2)\n",
      "Requirement already satisfied: pyparsing!=3.0.5,>=2.0.2 in c:\\programdata\\anaconda3\\lib\\site-packages (from packaging->jupyterlab) (3.0.9)\n",
      "Requirement already satisfied: idna>=2.8 in c:\\programdata\\anaconda3\\lib\\site-packages (from anyio<4,>=3.1.0->jupyter-server~=1.16->jupyterlab) (3.3)\n",
      "Requirement already satisfied: sniffio>=1.1 in c:\\programdata\\anaconda3\\lib\\site-packages (from anyio<4,>=3.1.0->jupyter-server~=1.16->jupyterlab) (1.2.0)\n",
      "Requirement already satisfied: parso<0.9.0,>=0.8.0 in c:\\programdata\\anaconda3\\lib\\site-packages (from jedi>=0.16->ipython->jupyterlab) (0.8.3)\n",
      "Requirement already satisfied: attrs>=17.4.0 in c:\\programdata\\anaconda3\\lib\\site-packages (from jsonschema>=3.0.1->jupyterlab-server~=2.10->jupyterlab) (21.4.0)\n",
      "Requirement already satisfied: pyrsistent!=0.17.0,!=0.17.1,!=0.17.2,>=0.14.0 in c:\\programdata\\anaconda3\\lib\\site-packages (from jsonschema>=3.0.1->jupyterlab-server~=2.10->jupyterlab) (0.18.0)\n",
      "Requirement already satisfied: python-dateutil>=2.8.2 in c:\\programdata\\anaconda3\\lib\\site-packages (from jupyter-client>=6.1.12->jupyter-server~=1.16->jupyterlab) (2.8.2)\n",
      "Requirement already satisfied: defusedxml in c:\\programdata\\anaconda3\\lib\\site-packages (from nbconvert>=6.4.4->jupyter-server~=1.16->jupyterlab) (0.7.1)\n",
      "Requirement already satisfied: bleach in c:\\programdata\\anaconda3\\lib\\site-packages (from nbconvert>=6.4.4->jupyter-server~=1.16->jupyterlab) (4.1.0)\n",
      "Requirement already satisfied: pandocfilters>=1.4.1 in c:\\programdata\\anaconda3\\lib\\site-packages (from nbconvert>=6.4.4->jupyter-server~=1.16->jupyterlab) (1.5.0)\n",
      "Requirement already satisfied: jupyterlab-pygments in c:\\programdata\\anaconda3\\lib\\site-packages (from nbconvert>=6.4.4->jupyter-server~=1.16->jupyterlab) (0.1.2)\n",
      "Requirement already satisfied: testpath in c:\\programdata\\anaconda3\\lib\\site-packages (from nbconvert>=6.4.4->jupyter-server~=1.16->jupyterlab) (0.6.0)\n",
      "Requirement already satisfied: beautifulsoup4 in c:\\programdata\\anaconda3\\lib\\site-packages (from nbconvert>=6.4.4->jupyter-server~=1.16->jupyterlab) (4.11.1)\n",
      "Requirement already satisfied: nbclient<0.6.0,>=0.5.0 in c:\\programdata\\anaconda3\\lib\\site-packages (from nbconvert>=6.4.4->jupyter-server~=1.16->jupyterlab) (0.5.13)\n",
      "Requirement already satisfied: mistune<2,>=0.8.1 in c:\\programdata\\anaconda3\\lib\\site-packages (from nbconvert>=6.4.4->jupyter-server~=1.16->jupyterlab) (0.8.4)\n",
      "Requirement already satisfied: fastjsonschema in c:\\programdata\\anaconda3\\lib\\site-packages (from nbformat>=5.2.0->jupyter-server~=1.16->jupyterlab) (2.16.2)\n",
      "Requirement already satisfied: wcwidth in c:\\programdata\\anaconda3\\lib\\site-packages (from prompt-toolkit!=3.0.0,!=3.0.1,<3.1.0,>=2.0.0->ipython->jupyterlab) (0.2.5)\n",
      "Requirement already satisfied: argon2-cffi-bindings in c:\\programdata\\anaconda3\\lib\\site-packages (from argon2-cffi->jupyter-server~=1.16->jupyterlab) (21.2.0)\n",
      "Requirement already satisfied: pytz>=2015.7 in c:\\programdata\\anaconda3\\lib\\site-packages (from babel->jupyterlab-server~=2.10->jupyterlab) (2022.1)\n",
      "Requirement already satisfied: debugpy>=1.0 in c:\\programdata\\anaconda3\\lib\\site-packages (from ipykernel->notebook<7->jupyterlab) (1.5.1)\n",
      "Requirement already satisfied: psutil in c:\\programdata\\anaconda3\\lib\\site-packages (from ipykernel->notebook<7->jupyterlab) (5.9.0)\n",
      "Requirement already satisfied: charset-normalizer<3,>=2 in c:\\programdata\\anaconda3\\lib\\site-packages (from requests->jupyterlab-server~=2.10->jupyterlab) (2.0.4)\n",
      "Requirement already satisfied: urllib3<1.27,>=1.21.1 in c:\\programdata\\anaconda3\\lib\\site-packages (from requests->jupyterlab-server~=2.10->jupyterlab) (1.26.11)\n",
      "Requirement already satisfied: certifi>=2017.4.17 in c:\\programdata\\anaconda3\\lib\\site-packages (from requests->jupyterlab-server~=2.10->jupyterlab) (2022.9.14)\n",
      "Requirement already satisfied: six in c:\\programdata\\anaconda3\\lib\\site-packages (from websocket-client->jupyter-server~=1.16->jupyterlab) (1.16.0)\n",
      "Requirement already satisfied: cffi>=1.0.1 in c:\\programdata\\anaconda3\\lib\\site-packages (from argon2-cffi-bindings->argon2-cffi->jupyter-server~=1.16->jupyterlab) (1.15.1)\n",
      "Requirement already satisfied: soupsieve>1.2 in c:\\programdata\\anaconda3\\lib\\site-packages (from beautifulsoup4->nbconvert>=6.4.4->jupyter-server~=1.16->jupyterlab) (2.3.1)\n",
      "Requirement already satisfied: webencodings in c:\\programdata\\anaconda3\\lib\\site-packages (from bleach->nbconvert>=6.4.4->jupyter-server~=1.16->jupyterlab) (0.5.1)\n",
      "Requirement already satisfied: pycparser in c:\\programdata\\anaconda3\\lib\\site-packages (from cffi>=1.0.1->argon2-cffi-bindings->argon2-cffi->jupyter-server~=1.16->jupyterlab) (2.21)\n"
     ]
    }
   ],
   "source": [
    "# move to project directory and run \n",
    "!python -m pip install jupyterlab\n",
    "\n",
    "# It will opens jupyter in new browser\n",
    "!jupyter lab"
   ]
  },
  {
   "cell_type": "code",
   "execution_count": null,
   "id": "769fdd69",
   "metadata": {},
   "outputs": [],
   "source": [
    "import pandas as pd"
   ]
  },
  {
   "cell_type": "code",
   "execution_count": null,
   "id": "70d53b65",
   "metadata": {},
   "outputs": [],
   "source": [
    "values = [10,20,30,40,50]\n",
    "s = pd.Series(values,index=['a','b','c','d','e'])   # custom index values"
   ]
  },
  {
   "cell_type": "code",
   "execution_count": null,
   "id": "00bba466",
   "metadata": {},
   "outputs": [],
   "source": [
    "s"
   ]
  },
  {
   "cell_type": "code",
   "execution_count": null,
   "id": "c8f6b249",
   "metadata": {},
   "outputs": [],
   "source": [
    "df = pd.DataFrame({\n",
    "    'name': ['shyam', 'ram', 'ravi', 'raj'],\n",
    "    'age' : [25, 25, 30, 32],\n",
    "    'job' : ['develope', 'developer', 'clerk', 'designer']    \n",
    "})\n"
   ]
  },
  {
   "cell_type": "code",
   "execution_count": null,
   "id": "33f6318f",
   "metadata": {},
   "outputs": [],
   "source": [
    "df"
   ]
  },
  {
   "cell_type": "code",
   "execution_count": null,
   "id": "6714f4ef",
   "metadata": {},
   "outputs": [],
   "source": [
    "df = df.set_index('name')     # making 'name' column as index"
   ]
  },
  {
   "cell_type": "code",
   "execution_count": null,
   "id": "e52be397",
   "metadata": {},
   "outputs": [],
   "source": [
    "df"
   ]
  },
  {
   "cell_type": "code",
   "execution_count": null,
   "id": "54cae920",
   "metadata": {},
   "outputs": [],
   "source": [
    "# reseting index to actal default index\n",
    "df.reset_index()"
   ]
  },
  {
   "cell_type": "code",
   "execution_count": null,
   "id": "1671b654",
   "metadata": {},
   "outputs": [],
   "source": [
    "# send dataframe table to csv file.\n",
    "# if we want create csv file without index use index=None\n",
    "df.to_csv('my_data.csv')"
   ]
  },
  {
   "cell_type": "code",
   "execution_count": null,
   "id": "92293cfa",
   "metadata": {},
   "outputs": [],
   "source": [
    "# read 'my_data.csv' file\n",
    "pd.read_csv('my_data.csv')"
   ]
  },
  {
   "cell_type": "code",
   "execution_count": null,
   "id": "fdd3682d",
   "metadata": {},
   "outputs": [],
   "source": [
    "# specify first column as index column\n",
    "pd.read_csv('my_data.csv',index_col=0)"
   ]
  },
  {
   "cell_type": "code",
   "execution_count": null,
   "id": "ac9ef964",
   "metadata": {},
   "outputs": [],
   "source": [
    "# adding each dataframe with index values\n",
    "\n",
    "df1 = pd.DataFrame({\n",
    "    'a': [1,2,3]    \n",
    "},index=[0,2,1])\n",
    "\n",
    "df2 = pd.DataFrame({\n",
    "    'a': [10,20,30]    \n",
    "},index=[0,1,2])"
   ]
  },
  {
   "cell_type": "code",
   "execution_count": null,
   "id": "aa08e539",
   "metadata": {},
   "outputs": [],
   "source": [
    "df1 + df2"
   ]
  },
  {
   "cell_type": "code",
   "execution_count": null,
   "id": "dd06c25a",
   "metadata": {},
   "outputs": [],
   "source": [
    "pip install scikit-learn matplotlib"
   ]
  },
  {
   "cell_type": "code",
   "execution_count": null,
   "id": "5ec832dc",
   "metadata": {},
   "outputs": [],
   "source": [
    "import pandas as pd"
   ]
  },
  {
   "cell_type": "code",
   "execution_count": null,
   "id": "6013d7dd",
   "metadata": {},
   "outputs": [],
   "source": [
    "from sklearn.datasets import fetch_california_housing"
   ]
  },
  {
   "cell_type": "code",
   "execution_count": null,
   "id": "44149b39",
   "metadata": {},
   "outputs": [],
   "source": [
    "df = fetch_california_housing(as_frame=True).frame\n",
    "df.head()"
   ]
  },
  {
   "cell_type": "code",
   "execution_count": null,
   "id": "83b1a392",
   "metadata": {},
   "outputs": [],
   "source": [
    "df"
   ]
  },
  {
   "cell_type": "code",
   "execution_count": null,
   "id": "610ac9e2",
   "metadata": {},
   "outputs": [],
   "source": [
    "df.head(5)    # first 5 rows"
   ]
  },
  {
   "cell_type": "code",
   "execution_count": null,
   "id": "1c7750db",
   "metadata": {},
   "outputs": [],
   "source": [
    "df.tail(5)     # last 5 rows"
   ]
  },
  {
   "cell_type": "code",
   "execution_count": null,
   "id": "b7dfbab5",
   "metadata": {},
   "outputs": [],
   "source": [
    "df.sample()    # picks random rows"
   ]
  },
  {
   "cell_type": "code",
   "execution_count": null,
   "id": "236f65e7",
   "metadata": {},
   "outputs": [],
   "source": [
    "df.columns    #display all column names"
   ]
  },
  {
   "cell_type": "code",
   "execution_count": null,
   "id": "c056491b",
   "metadata": {},
   "outputs": [],
   "source": [
    "pd.options.display.max_columns = 5"
   ]
  },
  {
   "cell_type": "code",
   "execution_count": null,
   "id": "be0dbe71",
   "metadata": {},
   "outputs": [],
   "source": [
    "df"
   ]
  },
  {
   "cell_type": "code",
   "execution_count": null,
   "id": "08e74c40",
   "metadata": {},
   "outputs": [],
   "source": [
    "df.info()"
   ]
  },
  {
   "cell_type": "code",
   "execution_count": null,
   "id": "7d4b24cc",
   "metadata": {},
   "outputs": [],
   "source": [
    "# to describe table count, mean, min, max....\n",
    "df.describe()"
   ]
  },
  {
   "cell_type": "code",
   "execution_count": null,
   "id": "973a30d7",
   "metadata": {},
   "outputs": [],
   "source": [
    "df['MedInc']"
   ]
  },
  {
   "cell_type": "code",
   "execution_count": null,
   "id": "f286a341",
   "metadata": {},
   "outputs": [],
   "source": [
    "df['MedInc'].mean()   #df['MedInc'].min() or max() or count() or sum()"
   ]
  },
  {
   "cell_type": "code",
   "execution_count": null,
   "id": "3536f5e4",
   "metadata": {},
   "outputs": [],
   "source": [
    "df = pd.DataFrame({\n",
    "    'name': ['shyam', 'ram', 'ravi', 'raj'],\n",
    "    'age' : [25, 25, 30, 32],\n",
    "    'job' : ['develope', 'developer', 'clerk', 'designer']    \n",
    "})\n"
   ]
  },
  {
   "cell_type": "code",
   "execution_count": null,
   "id": "41406ada",
   "metadata": {},
   "outputs": [],
   "source": [
    "df"
   ]
  },
  {
   "cell_type": "code",
   "execution_count": null,
   "id": "7e122823",
   "metadata": {},
   "outputs": [],
   "source": [
    "#df.loc[1]\n",
    "df = df.set_index('name')"
   ]
  },
  {
   "cell_type": "code",
   "execution_count": null,
   "id": "47355c27",
   "metadata": {},
   "outputs": [],
   "source": [
    "df"
   ]
  },
  {
   "cell_type": "code",
   "execution_count": null,
   "id": "55f64444",
   "metadata": {},
   "outputs": [],
   "source": [
    "df.loc['ravi']"
   ]
  },
  {
   "cell_type": "code",
   "execution_count": null,
   "id": "95e316c8",
   "metadata": {},
   "outputs": [],
   "source": [
    "df.loc['ravi','age']  # 'ravi' is the index row and 'age' is the first column"
   ]
  },
  {
   "cell_type": "code",
   "execution_count": null,
   "id": "514831fb",
   "metadata": {},
   "outputs": [],
   "source": [
    "df.at['ravi','age']"
   ]
  },
  {
   "cell_type": "code",
   "execution_count": null,
   "id": "2d82ab91",
   "metadata": {},
   "outputs": [],
   "source": [
    "df.iloc[1]"
   ]
  },
  {
   "cell_type": "code",
   "execution_count": null,
   "id": "1c3cf36f",
   "metadata": {},
   "outputs": [],
   "source": [
    "df.iloc[1,0]    # here 'name' is index row and 'age' is first coulum '0' index"
   ]
  },
  {
   "cell_type": "code",
   "execution_count": null,
   "id": "3e4a9ede",
   "metadata": {},
   "outputs": [],
   "source": [
    "df.iat[1,0]"
   ]
  },
  {
   "cell_type": "code",
   "execution_count": null,
   "id": "d4c41e4b",
   "metadata": {},
   "outputs": [],
   "source": [
    "# change 'ravi' age = 60\n",
    "df.at['ravi','age'] = 60"
   ]
  },
  {
   "cell_type": "code",
   "execution_count": null,
   "id": "6de91c08",
   "metadata": {},
   "outputs": [],
   "source": [
    "df"
   ]
  },
  {
   "cell_type": "code",
   "execution_count": null,
   "id": "8160959e",
   "metadata": {},
   "outputs": [],
   "source": [
    "# change entire row \n",
    "df.loc['ravi'] = [45,'HR']"
   ]
  },
  {
   "cell_type": "code",
   "execution_count": null,
   "id": "381f7ca4",
   "metadata": {},
   "outputs": [],
   "source": [
    "df"
   ]
  },
  {
   "cell_type": "code",
   "execution_count": null,
   "id": "ed8eee59",
   "metadata": {},
   "outputs": [],
   "source": [
    "# add new rows\n",
    "df.loc['john'] = [25,'drawer']"
   ]
  },
  {
   "cell_type": "code",
   "execution_count": null,
   "id": "124f64e1",
   "metadata": {},
   "outputs": [],
   "source": [
    "df"
   ]
  },
  {
   "cell_type": "code",
   "execution_count": null,
   "id": "ab1bc862",
   "metadata": {},
   "outputs": [],
   "source": [
    "# we can use slicing with iloc\n",
    "df.iloc[0:2]"
   ]
  },
  {
   "cell_type": "code",
   "execution_count": null,
   "id": "16b3d7dd",
   "metadata": {},
   "outputs": [],
   "source": [
    "# all rows and 1st column only\n",
    "df.iloc[:,1]"
   ]
  },
  {
   "cell_type": "code",
   "execution_count": null,
   "id": "afffa737",
   "metadata": {},
   "outputs": [],
   "source": [
    "# multiply age column with 2\n",
    "df.age * 2"
   ]
  },
  {
   "cell_type": "code",
   "execution_count": null,
   "id": "42d2674c",
   "metadata": {},
   "outputs": [],
   "source": [
    "# how to do some other logics\n",
    "def myfunction(x):\n",
    "    if x % 3 == 0:\n",
    "        return x**2\n",
    "    else:\n",
    "        return x//2"
   ]
  },
  {
   "cell_type": "code",
   "execution_count": null,
   "id": "d1badd72",
   "metadata": {},
   "outputs": [],
   "source": [
    "df.age.apply(myfunction)"
   ]
  },
  {
   "cell_type": "code",
   "execution_count": null,
   "id": "1a084f85",
   "metadata": {},
   "outputs": [],
   "source": [
    "# how to do some other logics\n",
    "def myfunction2(x):\n",
    "    if x.endswith('R'):\n",
    "        return 'no job'\n",
    "    else:\n",
    "        return x"
   ]
  },
  {
   "cell_type": "code",
   "execution_count": null,
   "id": "7467e7e8",
   "metadata": {},
   "outputs": [],
   "source": [
    "df.job.apply(myfunction2)"
   ]
  },
  {
   "cell_type": "code",
   "execution_count": null,
   "id": "9b447bc7",
   "metadata": {},
   "outputs": [],
   "source": [
    "# we can use lambda function for simple functions\n",
    "df.age.apply(lambda x: x ** 2 if x % 10 == 0 else x // 2)"
   ]
  },
  {
   "cell_type": "code",
   "execution_count": null,
   "id": "57f8ddf3",
   "metadata": {},
   "outputs": [],
   "source": [
    "# creating summary column\n",
    "df['summary'] = df.apply(lambda row : f\"Age: {row['age']}, job: {row['job']}\", axis=1)"
   ]
  },
  {
   "cell_type": "code",
   "execution_count": null,
   "id": "040b5b4f",
   "metadata": {},
   "outputs": [],
   "source": [
    "df"
   ]
  },
  {
   "cell_type": "code",
   "execution_count": null,
   "id": "32d30cca",
   "metadata": {},
   "outputs": [],
   "source": [
    "# to drop a column\n",
    "# for multiple columns deletion df.drop(['summary','age'],axis=1)\n",
    "df.drop('summary',axis=1)"
   ]
  },
  {
   "cell_type": "code",
   "execution_count": null,
   "id": "3b674228",
   "metadata": {},
   "outputs": [],
   "source": [
    "df"
   ]
  },
  {
   "cell_type": "code",
   "execution_count": null,
   "id": "2f4579ee",
   "metadata": {},
   "outputs": [],
   "source": [
    "import numpy as np\n",
    "\n",
    "#df.at['raj','age'] = float('nan')\n",
    "\n",
    "# First, convert 'age' to float so it can accept NaN\n",
    "df['age'] = df['age'].astype(float)\n",
    "\n",
    "# Now assign NaN to 'raj' in the 'age' column\n",
    "df.at['raj', 'age'] = np.nan\n",
    "\n",
    "# OR\n",
    "df.at['raj','age'] = float('nan')"
   ]
  },
  {
   "cell_type": "code",
   "execution_count": null,
   "id": "77c061fd",
   "metadata": {},
   "outputs": [],
   "source": [
    "df"
   ]
  },
  {
   "cell_type": "code",
   "execution_count": null,
   "id": "bac5fa6e",
   "metadata": {},
   "outputs": [],
   "source": [
    "df.info()"
   ]
  },
  {
   "cell_type": "code",
   "execution_count": null,
   "id": "45342af4",
   "metadata": {},
   "outputs": [],
   "source": [
    "# to drop 'nan' values\n",
    "df.dropna()"
   ]
  },
  {
   "cell_type": "code",
   "execution_count": null,
   "id": "bc28716a",
   "metadata": {},
   "outputs": [],
   "source": [
    "# to fill 'nan' values if nan put '0'\n",
    "df.fillna(0)"
   ]
  },
  {
   "cell_type": "code",
   "execution_count": null,
   "id": "b0baefeb",
   "metadata": {},
   "outputs": [],
   "source": [
    "# if nan value fill it with mean value\n",
    "df.age.fillna(df.age.mean())"
   ]
  },
  {
   "cell_type": "code",
   "execution_count": null,
   "id": "db4f718d",
   "metadata": {},
   "outputs": [],
   "source": [
    "# this will keep non values to False\n",
    "df.notna()"
   ]
  },
  {
   "cell_type": "code",
   "execution_count": null,
   "id": "90b6f282",
   "metadata": {},
   "outputs": [],
   "source": [
    "# it will display complete table except 'Flase' values 'age'\n",
    "df[df.age.notna()]"
   ]
  },
  {
   "cell_type": "code",
   "execution_count": null,
   "id": "df81d0ed",
   "metadata": {},
   "outputs": [],
   "source": [
    "# Iterate over each individual rows\n",
    "df.iterrows()"
   ]
  },
  {
   "cell_type": "code",
   "execution_count": null,
   "id": "c711afd7",
   "metadata": {},
   "outputs": [],
   "source": [
    "for i, row in df.iterrows():\n",
    "    print(i, row)\n",
    "    break"
   ]
  },
  {
   "cell_type": "code",
   "execution_count": null,
   "id": "fab7df9f",
   "metadata": {},
   "outputs": [],
   "source": [
    "for i, col in df.items():\n",
    "    print(i, col)\n",
    "    break"
   ]
  },
  {
   "cell_type": "code",
   "execution_count": null,
   "id": "f74e819a",
   "metadata": {},
   "outputs": [],
   "source": [
    "df.age > 50"
   ]
  },
  {
   "cell_type": "code",
   "execution_count": null,
   "id": "ffb32868",
   "metadata": {},
   "outputs": [],
   "source": [
    "df[df.age > 30]"
   ]
  },
  {
   "cell_type": "code",
   "execution_count": null,
   "id": "7fb061f4",
   "metadata": {},
   "outputs": [],
   "source": [
    "df[(df.age > 25) & (df.job.notna())]"
   ]
  },
  {
   "cell_type": "code",
   "execution_count": null,
   "id": "ad470f5a",
   "metadata": {},
   "outputs": [],
   "source": [
    "df[df.job.notna()]"
   ]
  },
  {
   "cell_type": "code",
   "execution_count": null,
   "id": "e846a417",
   "metadata": {},
   "outputs": [],
   "source": [
    "# reverse of above case\n",
    "df[~df.job.notna()]"
   ]
  },
  {
   "cell_type": "code",
   "execution_count": null,
   "id": "23ae59ed",
   "metadata": {},
   "outputs": [],
   "source": [
    "df = df.reset_index()"
   ]
  },
  {
   "cell_type": "code",
   "execution_count": null,
   "id": "6926b70d",
   "metadata": {},
   "outputs": [],
   "source": [
    "df[df.name.str.endswith('i')]"
   ]
  },
  {
   "cell_type": "code",
   "execution_count": null,
   "id": "a8a2bc44",
   "metadata": {},
   "outputs": [],
   "source": [
    "df.age = df.age.fillna(30)"
   ]
  },
  {
   "cell_type": "code",
   "execution_count": null,
   "id": "1f09c918",
   "metadata": {},
   "outputs": [],
   "source": [
    "import datetime as dt\n",
    "# its won't work if 'age' in 'nan' so fill that nan value\n",
    "df['birthday'] = df['age'].apply(lambda x : dt.datetime.now() - dt.timedelta(days=365*x))"
   ]
  },
  {
   "cell_type": "code",
   "execution_count": null,
   "id": "14e45dde",
   "metadata": {},
   "outputs": [],
   "source": [
    "df"
   ]
  },
  {
   "cell_type": "code",
   "execution_count": null,
   "id": "7610775d",
   "metadata": {},
   "outputs": [],
   "source": [
    "df[df.birthday.dt.year > 1990]"
   ]
  },
  {
   "cell_type": "code",
   "execution_count": null,
   "id": "6ccbcad3",
   "metadata": {},
   "outputs": [],
   "source": [
    "ages = [30, 45]\n",
    "df[df.age.isin(ages)]"
   ]
  },
  {
   "cell_type": "code",
   "execution_count": null,
   "id": "526c3645",
   "metadata": {},
   "outputs": [],
   "source": [
    "# this query is very fast compare to other commands\n",
    "df.query('age>26')"
   ]
  },
  {
   "cell_type": "code",
   "execution_count": null,
   "id": "de0bc497",
   "metadata": {},
   "outputs": [],
   "source": [
    "df"
   ]
  },
  {
   "cell_type": "code",
   "execution_count": null,
   "id": "91a2783e",
   "metadata": {},
   "outputs": [],
   "source": [
    "# Grouping"
   ]
  },
  {
   "cell_type": "code",
   "execution_count": null,
   "id": "1ea788be",
   "metadata": {},
   "outputs": [],
   "source": [
    "df.groupby('job')"
   ]
  },
  {
   "cell_type": "code",
   "execution_count": null,
   "id": "9e413da4",
   "metadata": {},
   "outputs": [],
   "source": [
    "df.groupby('job').agg({\n",
    "    'age': 'mean'\n",
    "})"
   ]
  },
  {
   "cell_type": "code",
   "execution_count": null,
   "id": "e37494ad",
   "metadata": {},
   "outputs": [],
   "source": [
    "df"
   ]
  },
  {
   "cell_type": "code",
   "execution_count": null,
   "id": "4c7d8976",
   "metadata": {},
   "outputs": [],
   "source": [
    "# adding other row\n",
    "df.loc[4] = ['jane',55,'designer',None,None]"
   ]
  },
  {
   "cell_type": "code",
   "execution_count": null,
   "id": "fcde6631",
   "metadata": {},
   "outputs": [],
   "source": [
    "df"
   ]
  },
  {
   "cell_type": "code",
   "execution_count": null,
   "id": "24d2e1ef",
   "metadata": {},
   "outputs": [],
   "source": [
    "df.groupby('job').agg({\n",
    "    'age': 'mean'\n",
    "})"
   ]
  },
  {
   "cell_type": "code",
   "execution_count": null,
   "id": "d7b3177e",
   "metadata": {},
   "outputs": [],
   "source": [
    "df.groupby('job').agg({\n",
    "    'age': ['mean','sum','max','min']\n",
    "})"
   ]
  },
  {
   "cell_type": "code",
   "execution_count": null,
   "id": "70991024",
   "metadata": {},
   "outputs": [],
   "source": [
    "df"
   ]
  },
  {
   "cell_type": "code",
   "execution_count": null,
   "id": "69b83426",
   "metadata": {},
   "outputs": [],
   "source": [
    "df.sort_values(\"age\",ascending=False)"
   ]
  },
  {
   "cell_type": "code",
   "execution_count": null,
   "id": "508423eb",
   "metadata": {},
   "outputs": [],
   "source": [
    "# Merging, Concatinating, Joining"
   ]
  },
  {
   "cell_type": "code",
   "execution_count": null,
   "id": "6d0d5fc6",
   "metadata": {},
   "outputs": [],
   "source": [
    "df1 = pd.DataFrame({\n",
    "    'Item':['A','B','C'],\n",
    "    'Price':[10,20,30]\n",
    "})\n",
    "\n",
    "df2 = pd.DataFrame({\n",
    "    'Item':['D','E','F'],\n",
    "    'Price':[40,50,60]\n",
    "})"
   ]
  },
  {
   "cell_type": "code",
   "execution_count": null,
   "id": "e3280806",
   "metadata": {},
   "outputs": [],
   "source": [
    "df1,df2"
   ]
  },
  {
   "cell_type": "code",
   "execution_count": null,
   "id": "5376df79",
   "metadata": {},
   "outputs": [],
   "source": [
    "# stack rows\n",
    "pd.concat([df1,df2]).reset_index().drop('index',axis=1)"
   ]
  },
  {
   "cell_type": "code",
   "execution_count": null,
   "id": "3cc402aa",
   "metadata": {},
   "outputs": [],
   "source": [
    "df3 = pd.DataFrame({\n",
    "    'Item':['A','B','C'],\n",
    "    'Price':[10,20,30]\n",
    "})\n",
    "\n",
    "df4 = pd.DataFrame({\n",
    "    'Country':['X','Y','Z'],\n",
    "    'Availbale':[True,True,False]\n",
    "})"
   ]
  },
  {
   "cell_type": "code",
   "execution_count": null,
   "id": "099a6465",
   "metadata": {},
   "outputs": [],
   "source": [
    "pd.concat([df3,df4],axis=1)"
   ]
  },
  {
   "cell_type": "code",
   "execution_count": null,
   "id": "748cb698",
   "metadata": {},
   "outputs": [],
   "source": [
    "df5 = pd.DataFrame({\n",
    "    'Item':['B','C','D'],\n",
    "    'Country':['X','Y','Z']\n",
    "})"
   ]
  },
  {
   "cell_type": "code",
   "execution_count": null,
   "id": "59e3cc9a",
   "metadata": {},
   "outputs": [],
   "source": [
    "df5"
   ]
  },
  {
   "cell_type": "code",
   "execution_count": null,
   "id": "8c328d93",
   "metadata": {},
   "outputs": [],
   "source": [
    "df1"
   ]
  },
  {
   "cell_type": "code",
   "execution_count": null,
   "id": "f6278671",
   "metadata": {},
   "outputs": [],
   "source": [
    "# i wanna join df1 and df5\n",
    "# here it merge only common values\n",
    "pd.merge(df1,df5)"
   ]
  },
  {
   "cell_type": "code",
   "execution_count": null,
   "id": "e5f50bd2",
   "metadata": {},
   "outputs": [],
   "source": [
    "# it will give all other values also\n",
    "# if you don't provide how='outer' by default it takes 'inner'\n",
    "# if we use 'left' it will keep all left table and 'right' for right table. \n",
    "pd.merge(df1,df5,how='outer')"
   ]
  },
  {
   "cell_type": "code",
   "execution_count": null,
   "id": "f530d0ed",
   "metadata": {},
   "outputs": [],
   "source": [
    "# you can also specify what column going to merge like 'item'\n",
    "pd.merge(df1,df5, on='Item', how='outer')"
   ]
  },
  {
   "cell_type": "code",
   "execution_count": null,
   "id": "2a85a2f9",
   "metadata": {},
   "outputs": [],
   "source": [
    "df6 = pd.DataFrame({\n",
    "    'Price': [10, 20, 30]\n",
    "}, index=['A', 'B', 'C'])\n",
    "\n",
    "df7 = pd.DataFrame({\n",
    "    'Country': ['X', 'Y', 'Z']\n",
    "}, index=['B', 'C', 'D'])"
   ]
  },
  {
   "cell_type": "code",
   "execution_count": null,
   "id": "14209283",
   "metadata": {},
   "outputs": [],
   "source": [
    "# it will join based on index we can also use df6.join(df7,how='outer')\n",
    "df6.join(df7)"
   ]
  },
  {
   "cell_type": "code",
   "execution_count": null,
   "id": "68d56cd4",
   "metadata": {},
   "outputs": [],
   "source": [
    "import numpy as np\n",
    "\n",
    "n = np.array([1, 2, 3, 4])\n",
    "reshaped_n = n.reshape((2, 2))  # Reshape to 2 rows and 2 columns\n",
    "print(reshaped_n)"
   ]
  },
  {
   "cell_type": "code",
   "execution_count": null,
   "id": "8003919d",
   "metadata": {},
   "outputs": [],
   "source": [
    "n_3d = n.reshape((2, 1, 2))  # 3D array\n",
    "print(n_3d)"
   ]
  },
  {
   "cell_type": "code",
   "execution_count": null,
   "id": "cffe7b2c",
   "metadata": {},
   "outputs": [],
   "source": [
    "n.resize((2, 2))  # Changes original array shape\n",
    "print(n)"
   ]
  },
  {
   "cell_type": "code",
   "execution_count": null,
   "id": "31882252",
   "metadata": {},
   "outputs": [],
   "source": [
    "n = np.array([1, 2, 3, 4])\n",
    "# You can expand the array using resize (it will fill new slots with zeros):\n",
    "n.resize((3, 3))\n",
    "print(n)"
   ]
  },
  {
   "cell_type": "code",
   "execution_count": null,
   "id": "0fdb728f",
   "metadata": {},
   "outputs": [],
   "source": [
    "import numpy as np\n",
    "\n",
    "n = np.array([1, 2, 3, 4, 5, 6])"
   ]
  },
  {
   "cell_type": "code",
   "execution_count": null,
   "id": "d1be4cf0",
   "metadata": {},
   "outputs": [],
   "source": [
    "n_2d = n.reshape((2, 3))  # 2 rows, 3 columns\n",
    "print(n_2d)"
   ]
  },
  {
   "cell_type": "code",
   "execution_count": null,
   "id": "26d58663",
   "metadata": {},
   "outputs": [],
   "source": [
    "# Convert 1D to 2D (Row Vector)\n",
    "n = np.array([1, 2, 3, 4])\n",
    "\n",
    "row_vector = n[np.newaxis, :]\n",
    "print(row_vector)\n",
    "print(row_vector.shape)"
   ]
  },
  {
   "cell_type": "code",
   "execution_count": null,
   "id": "f1f124d0",
   "metadata": {},
   "outputs": [],
   "source": [
    "# Convert 1D to 2D (Column Vector)\n",
    "column_vector = n[:, np.newaxis]\n",
    "print(column_vector)\n",
    "print(column_vector.shape)"
   ]
  },
  {
   "cell_type": "code",
   "execution_count": null,
   "id": "a8922af4",
   "metadata": {},
   "outputs": [],
   "source": [
    "column_vector = n.reshape(-1, 1)\n",
    "print(column_vector)"
   ]
  },
  {
   "cell_type": "code",
   "execution_count": null,
   "id": "72c63a5c",
   "metadata": {},
   "outputs": [],
   "source": [
    "# MultiIndex \n",
    "\n",
    "# In Pandas, you can create MultiIndex (multiple index levels) using:\n",
    "\n",
    "# set_index() for existing columns\n",
    "\n",
    "# pd.MultiIndex.from_tuples() or from_product() for manual creation\n",
    "\n",
    "# When using groupby() operations"
   ]
  },
  {
   "cell_type": "code",
   "execution_count": null,
   "id": "0f26c178",
   "metadata": {},
   "outputs": [],
   "source": [
    "# Example 1: Using set_index()\n",
    "import pandas as pd\n",
    "\n",
    "data = {\n",
    "    'City': ['Delhi', 'Delhi', 'Mumbai', 'Mumbai'],\n",
    "    'Year': [2020, 2021, 2020, 2021],\n",
    "    'Population': [19, 20, 18, 19]\n",
    "}\n",
    "\n",
    "df = pd.DataFrame(data)\n",
    "\n",
    "# Create MultiIndex\n",
    "df = df.set_index(['City', 'Year'])\n",
    "print(df)"
   ]
  },
  {
   "cell_type": "code",
   "execution_count": null,
   "id": "cadabba7",
   "metadata": {},
   "outputs": [],
   "source": [
    "# Example 2: Creating MultiIndex from Tuples\n",
    "index = pd.MultiIndex.from_tuples([('Delhi', 2020), ('Delhi', 2021), ('Mumbai', 2020), ('Mumbai', 2021)],\n",
    "                                  names=['City', 'Year'])\n",
    "\n",
    "data = [19, 20, 18, 19]\n",
    "\n",
    "df = pd.DataFrame(data, index=index, columns=['Population'])\n",
    "print(df)"
   ]
  },
  {
   "cell_type": "code",
   "execution_count": null,
   "id": "f1ada29d",
   "metadata": {},
   "outputs": [],
   "source": [
    "# ✅ Example 3: MultiIndex using groupby\n",
    "df = pd.DataFrame({\n",
    "    'City': ['Delhi', 'Delhi', 'Mumbai', 'Mumbai'],\n",
    "    'Year': [2020, 2021, 2020, 2021],\n",
    "    'Sales': [100, 150, 200, 250]\n",
    "})\n",
    "\n",
    "grouped = df.groupby(['City', 'Year']).sum()\n",
    "print(grouped)"
   ]
  },
  {
   "cell_type": "code",
   "execution_count": null,
   "id": "5be2fc81",
   "metadata": {},
   "outputs": [],
   "source": [
    "# If you use groupby\n",
    "# Access correctly\n",
    "print(grouped.loc[('Delhi', 2021)])  # ✅ This is correct here"
   ]
  },
  {
   "cell_type": "code",
   "execution_count": null,
   "id": "630ec9e1",
   "metadata": {},
   "outputs": [],
   "source": [
    "# If you use set_index\n",
    "# Set MultiIndex\n",
    "df = df.set_index(['City', 'Year'])\n",
    "print(df)\n",
    "\n",
    "# Access using MultiIndex\n",
    "print(df.loc[('Delhi', 2021)])  # ✅ This will work correctly here"
   ]
  },
  {
   "cell_type": "code",
   "execution_count": null,
   "id": "a06fd0ee",
   "metadata": {},
   "outputs": [],
   "source": []
  }
 ],
 "metadata": {
  "kernelspec": {
   "display_name": "Python 3 (ipykernel)",
   "language": "python",
   "name": "python3"
  },
  "language_info": {
   "codemirror_mode": {
    "name": "ipython",
    "version": 3
   },
   "file_extension": ".py",
   "mimetype": "text/x-python",
   "name": "python",
   "nbconvert_exporter": "python",
   "pygments_lexer": "ipython3",
   "version": "3.9.13"
  }
 },
 "nbformat": 4,
 "nbformat_minor": 5
}
